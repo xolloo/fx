{
 "cells": [
  {
   "cell_type": "code",
   "execution_count": 31,
   "metadata": {},
   "outputs": [],
   "source": [
    "import io\n",
    "import os\n",
    "import gc\n",
    "import numpy as np\n",
    "import pandas as pd\n",
    "import matplotlib.pyplot as plt\n",
    "import matplotlib.ticker as mticker\n",
    "# from tensorflow.keras.preprocessing import image"
   ]
  },
  {
   "cell_type": "code",
   "execution_count": 32,
   "metadata": {},
   "outputs": [],
   "source": [
    "dt = \"train\"\n",
    "years = [2000, 2001, 2003, 2004, 2006, 2007, 2008, 2010, 2011, 2012, 2013, 2015, 2016, 2017, 2018]\n",
    "\n",
    "# dt = \"test\"\n",
    "# years = [2002, 2005, 2009, 2014]\n",
    "\n",
    "# dt = \"check\"\n",
    "# years = [2019, 2020]\n",
    "\n",
    "if not os.path.isdir(f\"{dt}\"):\n",
    "    os.mkdir(f\"{dt}\")"
   ]
  },
  {
   "cell_type": "code",
   "execution_count": 33,
   "metadata": {},
   "outputs": [],
   "source": [
    "curs_data = pd.read_csv(\n",
    "    \"big_20/EURUSD_H1_200001030000_201912312200.csv\",\n",
    "    sep=\";\",\n",
    "    header=0,\n",
    "    names=[\"date\", \"time\", \"open\", \"high\", \"low\", \"close\", \"tickvol\", \"vol\", \"spread\"]\n",
    ")"
   ]
  },
  {
   "cell_type": "code",
   "execution_count": 34,
   "metadata": {},
   "outputs": [],
   "source": [
    "# year = pd.DataFrame(curs_data.date.map(lambda x: int(x.split(\".\")[0])).values, columns=[\"year\"])\n",
    "# curs_data = pd.concat([year, curs_data], axis=1)\n",
    "# curs_data = curs_data[curs_data[\"year\"].isin(years)]\n",
    "# date_time = pd.DataFrame((curs_data.date + \" \" + curs_data.time).values,  columns=[\"date_time\"])\n",
    "# curs_data = pd.concat([date_time, curs_data], axis=1)"
   ]
  },
  {
   "cell_type": "code",
   "execution_count": 35,
   "metadata": {},
   "outputs": [
    {
     "data": {
      "text/html": [
       "<div>\n",
       "<style scoped>\n",
       "    .dataframe tbody tr th:only-of-type {\n",
       "        vertical-align: middle;\n",
       "    }\n",
       "\n",
       "    .dataframe tbody tr th {\n",
       "        vertical-align: top;\n",
       "    }\n",
       "\n",
       "    .dataframe thead th {\n",
       "        text-align: right;\n",
       "    }\n",
       "</style>\n",
       "<table border=\"1\" class=\"dataframe\">\n",
       "  <thead>\n",
       "    <tr style=\"text-align: right;\">\n",
       "      <th></th>\n",
       "      <th>date</th>\n",
       "      <th>time</th>\n",
       "      <th>open</th>\n",
       "      <th>high</th>\n",
       "      <th>low</th>\n",
       "      <th>close</th>\n",
       "      <th>tickvol</th>\n",
       "      <th>vol</th>\n",
       "      <th>spread</th>\n",
       "    </tr>\n",
       "  </thead>\n",
       "  <tbody>\n",
       "    <tr>\n",
       "      <th>0</th>\n",
       "      <td>2000.01.03</td>\n",
       "      <td>00:00:00</td>\n",
       "      <td>1.0073</td>\n",
       "      <td>1.0132</td>\n",
       "      <td>1.0073</td>\n",
       "      <td>1.0128</td>\n",
       "      <td>194</td>\n",
       "      <td>0</td>\n",
       "      <td>50</td>\n",
       "    </tr>\n",
       "    <tr>\n",
       "      <th>1</th>\n",
       "      <td>2000.01.03</td>\n",
       "      <td>01:00:00</td>\n",
       "      <td>1.0129</td>\n",
       "      <td>1.0141</td>\n",
       "      <td>1.0120</td>\n",
       "      <td>1.0137</td>\n",
       "      <td>113</td>\n",
       "      <td>0</td>\n",
       "      <td>50</td>\n",
       "    </tr>\n",
       "    <tr>\n",
       "      <th>2</th>\n",
       "      <td>2000.01.03</td>\n",
       "      <td>02:00:00</td>\n",
       "      <td>1.0140</td>\n",
       "      <td>1.0173</td>\n",
       "      <td>1.0134</td>\n",
       "      <td>1.0171</td>\n",
       "      <td>149</td>\n",
       "      <td>0</td>\n",
       "      <td>50</td>\n",
       "    </tr>\n",
       "    <tr>\n",
       "      <th>3</th>\n",
       "      <td>2000.01.03</td>\n",
       "      <td>03:00:00</td>\n",
       "      <td>1.0170</td>\n",
       "      <td>1.0190</td>\n",
       "      <td>1.0170</td>\n",
       "      <td>1.0175</td>\n",
       "      <td>214</td>\n",
       "      <td>0</td>\n",
       "      <td>50</td>\n",
       "    </tr>\n",
       "    <tr>\n",
       "      <th>4</th>\n",
       "      <td>2000.01.03</td>\n",
       "      <td>04:00:00</td>\n",
       "      <td>1.0173</td>\n",
       "      <td>1.0177</td>\n",
       "      <td>1.0164</td>\n",
       "      <td>1.0167</td>\n",
       "      <td>162</td>\n",
       "      <td>0</td>\n",
       "      <td>50</td>\n",
       "    </tr>\n",
       "  </tbody>\n",
       "</table>\n",
       "</div>"
      ],
      "text/plain": [
       "         date      time    open    high     low   close  tickvol  vol  spread\n",
       "0  2000.01.03  00:00:00  1.0073  1.0132  1.0073  1.0128      194    0      50\n",
       "1  2000.01.03  01:00:00  1.0129  1.0141  1.0120  1.0137      113    0      50\n",
       "2  2000.01.03  02:00:00  1.0140  1.0173  1.0134  1.0171      149    0      50\n",
       "3  2000.01.03  03:00:00  1.0170  1.0190  1.0170  1.0175      214    0      50\n",
       "4  2000.01.03  04:00:00  1.0173  1.0177  1.0164  1.0167      162    0      50"
      ]
     },
     "execution_count": 35,
     "metadata": {},
     "output_type": "execute_result"
    }
   ],
   "source": [
    "curs_data.head()"
   ]
  },
  {
   "cell_type": "code",
   "execution_count": 36,
   "metadata": {},
   "outputs": [
    {
     "data": {
      "text/plain": [
       "False    124108\n",
       "Name: open, dtype: int64"
      ]
     },
     "execution_count": 36,
     "metadata": {},
     "output_type": "execute_result"
    }
   ],
   "source": [
    "curs_data.open.isnull().value_counts()"
   ]
  },
  {
   "cell_type": "code",
   "execution_count": 37,
   "metadata": {},
   "outputs": [],
   "source": [
    "data = curs_data[[\"open\", \"high\", \"low\", \"close\"]].values\n",
    "del curs_data"
   ]
  },
  {
   "cell_type": "code",
   "execution_count": 38,
   "metadata": {},
   "outputs": [],
   "source": [
    "import math\n",
    "\n",
    "step = 72\n",
    "X = []\n",
    "y = []\n",
    "for i in range(step, data.shape[0]-1):\n",
    "    win = data[i-step:i]\n",
    "    res = data[i]\n",
    "    if (math.isnan(win.max())) or (math.isnan(win.max())):\n",
    "        print(list(win))\n",
    "        break\n",
    "    X.append(win)\n",
    "    y.append(res)\n",
    "X = np.array(X)\n",
    "y = np.array(y)"
   ]
  },
  {
   "cell_type": "code",
   "execution_count": 39,
   "metadata": {},
   "outputs": [
    {
     "data": {
      "text/plain": [
       "124035"
      ]
     },
     "execution_count": 39,
     "metadata": {},
     "output_type": "execute_result"
    }
   ],
   "source": [
    "X.shape[0]"
   ]
  },
  {
   "cell_type": "code",
   "execution_count": 40,
   "metadata": {},
   "outputs": [
    {
     "data": {
      "text/plain": [
       "array([ True,  True,  True,  True])"
      ]
     },
     "execution_count": 40,
     "metadata": {},
     "output_type": "execute_result"
    }
   ],
   "source": [
    "X[1][-1] == y[0]"
   ]
  },
  {
   "cell_type": "code",
   "execution_count": 41,
   "metadata": {},
   "outputs": [],
   "source": [
    "def data_to_img(data, size=(144, 216)):\n",
    "\n",
    "    def get_point(value, min_value, max_value, max_coord):\n",
    "        max_diff = max_value - min_value\n",
    "        value_diff = value - min_value\n",
    "        res = value_diff * 100 / max_diff\n",
    "        return int(round(max_coord * res / 100))\n",
    "\n",
    "    # data = data.astype(np.float16)\n",
    "    rect_w = 3\n",
    "    line_skip = 1\n",
    "    max_h = size[0] - 1\n",
    "    max_value = data[:,:1].max()\n",
    "    min_value = data[:,:2].min()\n",
    "    img = np.zeros(size, dtype=np.uint8)\n",
    "    for x, values in zip(range(0, size[1], rect_w), data):\n",
    "        y1 = get_point(values[0], min_value, max_value, max_h)\n",
    "        y2 = get_point(values[3], min_value, max_value, max_h)\n",
    "        rect = {\n",
    "            \"lx\": x,\n",
    "            \"rx\": x+rect_w,\n",
    "            \"ty\": y1 if y1 < y2 else y2,\n",
    "            \"by\": y2 if y1 <= y2 else y1\n",
    "        }\n",
    "        color = 127 if y1 > y2 else 255\n",
    "        y1 = get_point(values[1], min_value, max_value, max_h)\n",
    "        y2 = get_point(values[2], min_value, max_value, max_h)\n",
    "        line = {\n",
    "            \"x\": x+line_skip,\n",
    "            \"t\": y1 if y1 < y2 else y2,\n",
    "            \"b\": y2 if y1 <= y2 else y1\n",
    "        }\n",
    "        img[rect[\"ty\"]:rect[\"by\"], rect[\"lx\"]:rect[\"rx\"]] = color\n",
    "        img[line[\"t\"]:line[\"b\"], line[\"x\"]:line[\"x\"]+1] = color\n",
    "    return img / 255 * 0.2"
   ]
  },
  {
   "cell_type": "code",
   "execution_count": 42,
   "metadata": {},
   "outputs": [],
   "source": [
    "img = data_to_img(X[-1])"
   ]
  },
  {
   "cell_type": "code",
   "execution_count": 43,
   "metadata": {},
   "outputs": [
    {
     "data": {
      "text/plain": [
       "<matplotlib.image.AxesImage at 0x7f8da9c3ee50>"
      ]
     },
     "execution_count": 43,
     "metadata": {},
     "output_type": "execute_result"
    },
    {
     "data": {
      "image/png": "[encoded data removed]",
      "text/plain": [
       "<Figure size 432x288 with 1 Axes>"
      ]
     },
     "metadata": {
      "needs_background": "light"
     },
     "output_type": "display_data"
    }
   ],
   "source": [
    "plt.imshow(img / 255, cmap=\"Greys\")"
   ]
  },
  {
   "cell_type": "code",
   "execution_count": 44,
   "metadata": {},
   "outputs": [
    {
     "data": {
      "text/plain": [
       "(124035, 144, 216)"
      ]
     },
     "execution_count": 44,
     "metadata": {},
     "output_type": "execute_result"
    }
   ],
   "source": [
    "X_imgs = []\n",
    "for index, img in enumerate(X):\n",
    "    X_imgs.append(data_to_img(img))\n",
    "X_imgs = np.array(X_imgs, dtype=np.uint8)\n",
    "X_imgs.shape"
   ]
  },
  {
   "cell_type": "code",
   "execution_count": 45,
   "metadata": {},
   "outputs": [],
   "source": [
    "np.save(f\"{dt}/X_curs\", X)\n",
    "np.save(f\"{dt}/X_imgs\", X_imgs)\n",
    "np.save(f\"{dt}/y\", y)\n"
   ]
  },
  {
   "cell_type": "code",
   "execution_count": null,
   "metadata": {},
   "outputs": [],
   "source": []
  }
 ],
 "metadata": {
  "interpreter": {
   "hash": "7e0f40b074d5e42020354089f45942595fc1f25589677d54626f6c21059872d0"
  },
  "kernelspec": {
   "display_name": "Python 3.8.8 64-bit ('base': conda)",
   "name": "python3"
  },
  "language_info": {
   "codemirror_mode": {
    "name": "ipython",
    "version": 3
   },
   "file_extension": ".py",
   "mimetype": "text/x-python",
   "name": "python",
   "nbconvert_exporter": "python",
   "pygments_lexer": "ipython3",
   "version": "3.8.8"
  },
  "orig_nbformat": 2
 },
 "nbformat": 4,
 "nbformat_minor": 2
}
